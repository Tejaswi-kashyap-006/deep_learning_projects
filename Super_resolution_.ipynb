{
  "nbformat": 4,
  "nbformat_minor": 0,
  "metadata": {
    "colab": {
      "provenance": [],
      "authorship_tag": "ABX9TyPeZjQino9wC9LXwNrQXvD5",
      "include_colab_link": true
    },
    "kernelspec": {
      "name": "python3",
      "display_name": "Python 3"
    },
    "language_info": {
      "name": "python"
    },
    "accelerator": "GPU",
    "gpuClass": "standard"
  },
  "cells": [
    {
      "cell_type": "markdown",
      "metadata": {
        "id": "view-in-github",
        "colab_type": "text"
      },
      "source": [
        "<a href=\"https://colab.research.google.com/github/Tejaswi-kashyap-006/deep_learning_projects/blob/main/Super_resolution_.ipynb\" target=\"_parent\"><img src=\"https://colab.research.google.com/assets/colab-badge.svg\" alt=\"Open In Colab\"/></a>"
      ]
    },
    {
      "cell_type": "markdown",
      "source": [
        "#import modules"
      ],
      "metadata": {
        "id": "sYAEr_JgBlI5"
      }
    },
    {
      "cell_type": "code",
      "execution_count": null,
      "metadata": {
        "id": "GY8lVsm_7p__"
      },
      "outputs": [],
      "source": [
        "import cv2\n",
        "from cv2 import dnn_superres"
      ]
    },
    {
      "cell_type": "code",
      "source": [
        "#link to the models\n",
        "# links to download models\n",
        "# https://github.com/Saafke/EDSR_Tensorflow/blob/master/models/\n",
        "# https://github.com/fannymonori/TF-LapSRN/blob/master/export/LapSRN_x8.pb"
      ],
      "metadata": {
        "id": "IPBElqSAVKW4"
      },
      "execution_count": null,
      "outputs": []
    },
    {
      "cell_type": "code",
      "source": [
        "#initialize super resolution object \n",
        "sr = dnn_superres.DnnSuperResImpl_create()\n",
        " \n",
        "#read the model \n",
        "path ='/content/EDSR_x4.pb'\n",
        "sr.readModel(path)\n",
        "\n",
        "#set the model and scale\n",
        "sr.setModel('edsr',4)"
      ],
      "metadata": {
        "id": "CMhz4CQDGn06"
      },
      "execution_count": null,
      "outputs": []
    },
    {
      "cell_type": "code",
      "source": [
        "# if you have cuda support \n",
        "sr.setPreferableBackend(cv2.dnn.DNN_BACKEND_CUDA)\n",
        "sr.setPreferableTarget(cv2.dnn.DNN_TARGET_CUDA)"
      ],
      "metadata": {
        "id": "qJ9Bbe2rWahe"
      },
      "execution_count": null,
      "outputs": []
    },
    {
      "cell_type": "code",
      "source": [
        "image = cv2.imread('/content/test.png')"
      ],
      "metadata": {
        "id": "DuDoVBd5Xuik"
      },
      "execution_count": null,
      "outputs": []
    },
    {
      "cell_type": "code",
      "source": [
        "#upsample the image \n",
        "upscaled = sr.upsample(image)\n",
        "#save the upscale image \n",
        "cv2.imwrite('upscaled_test.png', upscaled)"
      ],
      "metadata": {
        "colab": {
          "base_uri": "https://localhost:8080/"
        },
        "id": "bTtO4Nc_Xuc2",
        "outputId": "79f382b8-66b0-43ff-8302-de2c7963dc70"
      },
      "execution_count": null,
      "outputs": [
        {
          "output_type": "execute_result",
          "data": {
            "text/plain": [
              "True"
            ]
          },
          "metadata": {},
          "execution_count": 8
        }
      ]
    },
    {
      "cell_type": "code",
      "source": [
        "#traditonal method - bicubic\n",
        "bicubic = cv2.resize(image, (upscaled.shape[1], upscaled.shape[0]), interpolation=cv2.INTER_CUBIC)\n",
        "#save the image \n",
        "cv2.imwrite('bicubic_test.png', bicubic)"
      ],
      "metadata": {
        "colab": {
          "base_uri": "https://localhost:8080/"
        },
        "id": "PQ1brYbpYNxA",
        "outputId": "b7cc2a38-1755-4cac-847a-ff2046e1cae9"
      },
      "execution_count": null,
      "outputs": [
        {
          "output_type": "execute_result",
          "data": {
            "text/plain": [
              "True"
            ]
          },
          "metadata": {},
          "execution_count": 13
        }
      ]
    },
    {
      "cell_type": "code",
      "source": [
        "#lapSRN "
      ],
      "metadata": {
        "id": "YDpZuWnYcSZz"
      },
      "execution_count": null,
      "outputs": []
    },
    {
      "cell_type": "code",
      "source": [
        "#initialize super resolution object \n",
        "sr = dnn_superres.DnnSuperResImpl_create()\n",
        "\n",
        "#read the model \n",
        "path = '/content/LapSRN_x8.pb'\n",
        "sr.readModel(path)\n",
        "\n",
        "#set the model and scale \n",
        "sr.setModel('lapsrn', 8)"
      ],
      "metadata": {
        "id": "aRzbdDMtc3I-"
      },
      "execution_count": null,
      "outputs": []
    },
    {
      "cell_type": "code",
      "source": [
        "# if cuda is available \n",
        "sr.setPreferableBackend(cv2.dnn.DNN_BACKEND_CUDA)\n",
        "sr.setPreferableTarget(cv2.dnn.DNN_TARGET_CUDA)"
      ],
      "metadata": {
        "id": "To5c798uebl-"
      },
      "execution_count": null,
      "outputs": []
    },
    {
      "cell_type": "code",
      "source": [
        "#load the image \n",
        "image = cv2.imread('/content/test.png')"
      ],
      "metadata": {
        "id": "NjRFHXpqe-9C"
      },
      "execution_count": null,
      "outputs": []
    },
    {
      "cell_type": "code",
      "source": [
        "# upsample the image \n",
        "upscaled = sr.upsample(image)\n",
        "#save the upscaled image \n",
        "cv2.imwrite('upscaled_test_lapsrn.png', upscaled)"
      ],
      "metadata": {
        "colab": {
          "base_uri": "https://localhost:8080/"
        },
        "id": "XxT5cIYufLv2",
        "outputId": "8ecb5b6b-31bf-40c8-ca2e-bd4a65ab57c3"
      },
      "execution_count": null,
      "outputs": [
        {
          "output_type": "execute_result",
          "data": {
            "text/plain": [
              "True"
            ]
          },
          "metadata": {},
          "execution_count": 18
        }
      ]
    },
    {
      "cell_type": "code",
      "source": [
        "# traditional method - bicubic\n",
        "bicubic = cv2.resize(image, (upscaled.shape[1], upscaled.shape[0]), interpolation=cv2.INTER_CUBIC)\n",
        "# save the image\n",
        "cv2.imwrite('bicubic_test_8x.png', bicubic)"
      ],
      "metadata": {
        "colab": {
          "base_uri": "https://localhost:8080/"
        },
        "id": "zDT-8bRcfxXe",
        "outputId": "a16e0933-48d5-4a01-be1b-6ea64a91630e"
      },
      "execution_count": null,
      "outputs": [
        {
          "output_type": "execute_result",
          "data": {
            "text/plain": [
              "True"
            ]
          },
          "metadata": {},
          "execution_count": 19
        }
      ]
    }
  ]
}